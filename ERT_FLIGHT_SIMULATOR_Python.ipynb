{
 "cells": [
  {
   "cell_type": "markdown",
   "metadata": {},
   "source": [
    "# ERT Flight Simulator\n",
    "\n",
    "Repository for the EPFL Rocket Team's flight simulator translated to Python.\n",
    "\n",
    "The aim is to create a GUI from the existing Matlab code."
   ]
  },
  {
   "cell_type": "markdown",
   "metadata": {},
   "source": []
  },
  {
   "cell_type": "code",
   "execution_count": 19,
   "metadata": {
    "scrolled": true
   },
   "outputs": [
    {
     "name": "stdout",
     "output_type": "stream",
     "text": [
      "[1, 2]\n"
     ]
    },
    {
     "data": {
      "text/plain": [
       "array([0.4472136 , 0.89442719])"
      ]
     },
     "execution_count": 19,
     "metadata": {},
     "output_type": "execute_result"
    }
   ],
   "source": [
    "d = [1,2]\n",
    "print(d)\n",
    "import numpy as np\n",
    "# from sklearn import preprocessing\n",
    "# print(d/np.linalg.norm(d))\n",
    "\n",
    "def normVect(v):\n",
    "    import numpy as np\n",
    "    norm = np.linalg.norm(v)\n",
    "    if norm == 0:\n",
    "        return v\n",
    "    return v / norm\n",
    "\n",
    "normVect(d)"
   ]
  },
  {
   "cell_type": "code",
   "execution_count": null,
   "metadata": {},
   "outputs": [],
   "source": [
    "def quat2rot(q):\n",
    "    import numpy\n",
    "\treturn transpose(matrix([ \\\n",
    "\t1-2*q[2]**2-2*q[3]**2, \\\n",
    "\t2*(q[1]*q[2] + q[3]*q[4]), \\\n",
    "    2*(q[1]*q[3] - q[2]*q[4]); \\\n",
    "\t2*(q[1]*q[2] - q[3]*q[4]), \\\n",
    "    1-2*q[1]**2-2*q[3]**2, \\\n",
    "    2*(q[2]*q[3] + q[1]*q[4]); \\\n",
    "    2*(q[1]*q[3] + q[2]*q[4]), \\\n",
    "    2*(q[2]*q[3] - q[1]*q[4]), \\\n",
    "    1-2*q[1]**2 - 2*q[2]**2]))"
   ]
  }
 ],
 "metadata": {
  "kernelspec": {
   "display_name": "Python 3",
   "language": "python",
   "name": "python3"
  },
  "language_info": {
   "codemirror_mode": {
    "name": "ipython",
    "version": 3
   },
   "file_extension": ".py",
   "mimetype": "text/x-python",
   "name": "python",
   "nbconvert_exporter": "python",
   "pygments_lexer": "ipython3",
   "version": "3.7.1"
  }
 },
 "nbformat": 4,
 "nbformat_minor": 2
}
