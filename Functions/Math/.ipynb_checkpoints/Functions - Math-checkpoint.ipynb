{
 "cells": [
  {
   "cell_type": "markdown",
   "metadata": {},
   "source": [
    "# Functions\n",
    "## Math\n",
    "Ce Notebook répertorie toutes les fonctions du dossier _Math_ issu de _Functions_."
   ]
  },
  {
   "cell_type": "code",
   "execution_count": null,
   "metadata": {},
   "outputs": [],
   "source": [
    "def normalizeVect(v):\n",
    "    import numpy as np\n",
    "    norm = np.linalg.norm(v)\n",
    "    if norm == 0:\n",
    "        return v\n",
    "    return v / norm"
   ]
  },
  {
   "cell_type": "code",
   "execution_count": null,
   "metadata": {},
   "outputs": [],
   "source": [
    "def quat2rot(q):\n",
    "    import numpy\n",
    "    return transpose(matrix([ \\\n",
    "                             1-2*q[2]**2-2*q[3]**2, \\\n",
    "                             2*(q[1]*q[2] + q[3]*q[4]), \\\n",
    "                             2*(q[1]*q[3] - q[2]*q[4]); \\\n",
    "                             2*(q[1]*q[2] - q[3]*q[4]), \\\n",
    "                             1-2*q[1]**2-2*q[3]**2, \\\n",
    "                             2*(q[2]*q[3] + q[1]*q[4]); \\\n",
    "                             2*(q[1]*q[3] + q[2]*q[4]), \\\n",
    "                             2*(q[2]*q[3] - q[1]*q[4]), \\\n",
    "                             1-2*q[1]**2 - 2*q[2]**2]))"
   ]
  }
 ],
 "metadata": {
  "kernelspec": {
   "display_name": "Python 3",
   "language": "python",
   "name": "python3"
  },
  "language_info": {
   "codemirror_mode": {
    "name": "ipython",
    "version": 3
   },
   "file_extension": ".py",
   "mimetype": "text/x-python",
   "name": "python",
   "nbconvert_exporter": "python",
   "pygments_lexer": "ipython3",
   "version": "3.7.1"
  }
 },
 "nbformat": 4,
 "nbformat_minor": 2
}
